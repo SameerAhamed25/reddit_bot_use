{
 "cells": [
  {
   "cell_type": "code",
   "execution_count": 1,
   "id": "d9a2a56d",
   "metadata": {},
   "outputs": [
    {
     "name": "stdout",
     "output_type": "stream",
     "text": [
      "Collecting praw\n",
      "  Obtaining dependency information for praw from https://files.pythonhosted.org/packages/81/6a/21bc058bcccbe03f6a0895bf1bd60c805f0c526aa4e9bfaac775ed0b299c/praw-7.7.1-py3-none-any.whl.metadata\n",
      "  Downloading praw-7.7.1-py3-none-any.whl.metadata (9.8 kB)\n",
      "Collecting prawcore<3,>=2.1 (from praw)\n",
      "  Obtaining dependency information for prawcore<3,>=2.1 from https://files.pythonhosted.org/packages/96/5c/8af904314e42d5401afcfaff69940dc448e974f80f7aa39b241a4fbf0cf1/prawcore-2.4.0-py3-none-any.whl.metadata\n",
      "  Downloading prawcore-2.4.0-py3-none-any.whl.metadata (5.0 kB)\n",
      "Collecting update-checker>=0.18 (from praw)\n",
      "  Obtaining dependency information for update-checker>=0.18 from https://files.pythonhosted.org/packages/0c/ba/8dd7fa5f0b1c6a8ac62f8f57f7e794160c1f86f31c6d0fb00f582372a3e4/update_checker-0.18.0-py3-none-any.whl.metadata\n",
      "  Downloading update_checker-0.18.0-py3-none-any.whl.metadata (2.3 kB)\n",
      "Requirement already satisfied: websocket-client>=0.54.0 in c:\\users\\mdsng\\anaconda3\\lib\\site-packages (from praw) (0.58.0)\n",
      "Requirement already satisfied: requests<3.0,>=2.6.0 in c:\\users\\mdsng\\anaconda3\\lib\\site-packages (from prawcore<3,>=2.1->praw) (2.31.0)\n",
      "Requirement already satisfied: six in c:\\users\\mdsng\\anaconda3\\lib\\site-packages (from websocket-client>=0.54.0->praw) (1.16.0)\n",
      "Requirement already satisfied: charset-normalizer<4,>=2 in c:\\users\\mdsng\\anaconda3\\lib\\site-packages (from requests<3.0,>=2.6.0->prawcore<3,>=2.1->praw) (2.0.4)\n",
      "Requirement already satisfied: idna<4,>=2.5 in c:\\users\\mdsng\\anaconda3\\lib\\site-packages (from requests<3.0,>=2.6.0->prawcore<3,>=2.1->praw) (3.4)\n",
      "Requirement already satisfied: urllib3<3,>=1.21.1 in c:\\users\\mdsng\\anaconda3\\lib\\site-packages (from requests<3.0,>=2.6.0->prawcore<3,>=2.1->praw) (1.26.16)\n",
      "Requirement already satisfied: certifi>=2017.4.17 in c:\\users\\mdsng\\anaconda3\\lib\\site-packages (from requests<3.0,>=2.6.0->prawcore<3,>=2.1->praw) (2023.11.17)\n",
      "Downloading praw-7.7.1-py3-none-any.whl (191 kB)\n",
      "   ---------------------------------------- 0.0/191.0 kB ? eta -:--:--\n",
      "   --------------------------------------- 191.0/191.0 kB 11.3 MB/s eta 0:00:00\n",
      "Downloading prawcore-2.4.0-py3-none-any.whl (17 kB)\n",
      "Downloading update_checker-0.18.0-py3-none-any.whl (7.0 kB)\n",
      "Installing collected packages: update-checker, prawcore, praw\n",
      "Successfully installed praw-7.7.1 prawcore-2.4.0 update-checker-0.18.0\n"
     ]
    }
   ],
   "source": [
    "!pip install praw"
   ]
  },
  {
   "cell_type": "code",
   "execution_count": 2,
   "id": "6253ad07",
   "metadata": {},
   "outputs": [],
   "source": [
    "import praw"
   ]
  },
  {
   "cell_type": "code",
   "execution_count": 6,
   "id": "f4761d11",
   "metadata": {},
   "outputs": [],
   "source": [
    "client_id = open(r\"C:\\Users\\mdsng\\OneDrive\\Desktop\\content\\client_id.txt\").read()\n",
    "client_service = open(r\"C:\\Users\\mdsng\\OneDrive\\Desktop\\content\\client_service.txt\").read()\n",
    "password = open(r\"C:\\Users\\mdsng\\OneDrive\\Desktop\\content\\password.txt\").read()\n",
    "user_agent = open(r\"C:\\Users\\mdsng\\OneDrive\\Desktop\\content\\user_agent.txt\").read()\n",
    "username = open(r\"C:\\Users\\mdsng\\OneDrive\\Desktop\\content\\username.txt\").read()"
   ]
  },
  {
   "cell_type": "code",
   "execution_count": 7,
   "id": "7a68cd4f",
   "metadata": {},
   "outputs": [],
   "source": [
    "# https://praw.readthedocs.io/en/stable/getting_started/multiple_instances.html\n",
    "reddit = praw.Reddit(\n",
    "    client_id=client_id,\n",
    "    client_secret= client_service,\n",
    "    password = password,\n",
    "    user_agent = user_agent,\n",
    "    username = username,\n",
    "    check_for_async=False\n",
    ")"
   ]
  },
  {
   "cell_type": "code",
   "execution_count": 8,
   "id": "d032ef49",
   "metadata": {},
   "outputs": [
    {
     "data": {
      "text/plain": [
       "Redditor(name='sparecmrcet')"
      ]
     },
     "execution_count": 8,
     "metadata": {},
     "output_type": "execute_result"
    }
   ],
   "source": [
    "# logging in to Reddit\n",
    "reddit.user.me()"
   ]
  },
  {
   "cell_type": "code",
   "execution_count": 10,
   "id": "afe00907",
   "metadata": {},
   "outputs": [
    {
     "name": "stdout",
     "output_type": "stream",
     "text": [
      "Anime Questions, Recommendations, and Discussion - February 28, 2024\n",
      "Mod Applications — Winter 2024\n",
      "Crunchyroll CEO Says A.I. Generated Subtitles Are \"Definitely an Area We're Focused On\"\n",
      "Are you an ass or boobs man? (prison school)\n",
      "What Anime was so good until its later half happened? \n",
      "Akuyaku Reijou Level 99: Watashi wa Ura-Boss desu ga Maou dewa Arimasen • Villainess Level 99: I May Be the Hidden Boss but I'm Not the Demon Lord - Episode 8 discussion\n",
      "Is Monster (2004) still holding up in terms of animation quality?\n",
      "'Re:Zero' Season 3 - New Key Visual\n",
      "What romance anime should I add to my library?\n",
      "The Eminence in Shadow Season 2 Volume 3 Blu-ray art\n"
     ]
    }
   ],
   "source": [
    "subreddit = reddit.subreddit(\"anime\")\n",
    "for submission in subreddit.hot(limit = 10):\n",
    "  print(submission.title)"
   ]
  },
  {
   "cell_type": "code",
   "execution_count": 11,
   "id": "d5479e8f",
   "metadata": {},
   "outputs": [
    {
     "name": "stdout",
     "output_type": "stream",
     "text": [
      "Title: Crunchyroll CEO Says A.I. Generated Subtitles Are \"Definitely an Area We're Focused On\"\n",
      "Score: 2515\n",
      "--------------\n",
      "Title: Are you an ass or boobs man? (prison school)\n",
      "Score: 489\n",
      "--------------\n",
      "Title: What Anime was so good until its later half happened? \n",
      "Score: 444\n",
      "--------------\n",
      "Title: Akuyaku Reijou Level 99: Watashi wa Ura-Boss desu ga Maou dewa Arimasen • Villainess Level 99: I May Be the Hidden Boss but I'm Not the Demon Lord - Episode 8 discussion\n",
      "Score: 1013\n",
      "--------------\n",
      "Title: Is Monster (2004) still holding up in terms of animation quality?\n",
      "Score: 347\n",
      "--------------\n",
      "Title: 'Re:Zero' Season 3 - New Key Visual\n",
      "Score: 3830\n",
      "--------------\n",
      "Title: What romance anime should I add to my library?\n",
      "Score: 97\n",
      "--------------\n",
      "Title: The Eminence in Shadow Season 2 Volume 3 Blu-ray art\n",
      "Score: 83\n",
      "--------------\n"
     ]
    }
   ],
   "source": [
    "# Do something with the data\n",
    "subreddit = reddit.subreddit(\"anime\")\n",
    "for submission in subreddit.hot(limit = 10):\n",
    "  if not submission.stickied:\n",
    "    print(f\"Title: {submission.title}\")\n",
    "    print(f\"Score: {submission.score}\")\n",
    "    print(\"--------------\")"
   ]
  },
  {
   "cell_type": "code",
   "execution_count": 12,
   "id": "cc569483",
   "metadata": {},
   "outputs": [
    {
     "data": {
      "text/plain": [
       "Submission(id='1b25e33')"
      ]
     },
     "execution_count": 12,
     "metadata": {},
     "output_type": "execute_result"
    }
   ],
   "source": [
    "# post new submissions\n",
    "reddit.subreddit(\"test\").submit(title = \"My first reddit trial.\",\n",
    "                                selftext = \"Hi, this is my first trial.\"\n",
    "                                )"
   ]
  },
  {
   "cell_type": "code",
   "execution_count": 13,
   "id": "98aba085",
   "metadata": {},
   "outputs": [
    {
     "data": {
      "text/plain": [
       "Comment(id='ksj0xck')"
      ]
     },
     "execution_count": 13,
     "metadata": {},
     "output_type": "execute_result"
    }
   ],
   "source": [
    "# comment on a known submission\n",
    "# https://github.com/praw-dev/praw\n",
    "submission = reddit.submission(url=\"https://www.reddit.com/r/test/comments/1aubrij/my_first_reddit_trial/\")\n",
    "submission.reply(\"Super dupper!\")"
   ]
  },
  {
   "cell_type": "code",
   "execution_count": 19,
   "id": "36440471",
   "metadata": {},
   "outputs": [],
   "source": [
    "# Upvote/Downvote\n",
    "submission = reddit.submission(url=\"https://www.reddit.com/r/anime/comments/1az9jva/mod_applications_winter_2024/\")\n",
    "submission.upvote()"
   ]
  },
  {
   "cell_type": "code",
   "execution_count": 20,
   "id": "f8f9cdac",
   "metadata": {},
   "outputs": [],
   "source": [
    "# Upvote/Downvote\n",
    "submission = reddit.submission(url=\"https://www.reddit.com/r/anime/comments/1az9jva/mod_applications_winter_2024/\")\n",
    "submission.downvote()"
   ]
  },
  {
   "cell_type": "code",
   "execution_count": 21,
   "id": "a284145c",
   "metadata": {},
   "outputs": [
    {
     "name": "stdout",
     "output_type": "stream",
     "text": [
      "Kaguya-sama: Love Is War - Season 3 announced!\n",
      "Aqua in yoga pants | Konosuba\n",
      "This is not a Cigarette [Gintama]\n",
      "The Devil is a Part-Timer Season 2 Announced!\n",
      "'Konosuba' Season 3 Announced\n"
     ]
    }
   ],
   "source": [
    "# Fetch Top Submissions in \"anime\" Subreddit\n",
    "\n",
    "subreddit = reddit.subreddit(\"anime\")\n",
    "for submission in subreddit.top(limit=5):\n",
    "    print(submission.title)\n"
   ]
  },
  {
   "cell_type": "code",
   "execution_count": 22,
   "id": "e35b8380",
   "metadata": {},
   "outputs": [
    {
     "name": "stdout",
     "output_type": "stream",
     "text": [
      "Pick me, daily horny post = ban. The answer is always highschool dxd or redo healer.\n",
      "I would become drunk with power and try to eliminate rival mods. I have to pass.\n",
      "I have my answers all typed up and am now [](#kaguyashaking) over hitting the \"Submit\" button. It's a big decision that I feel I *am* ready to make, I'm just all nervous about it like I get every time right before posting a rewatch thread or something.\n",
      "\n",
      "...\n",
      "\n",
      "[Okay, gonna do it.](#thebutton)\n",
      "\n",
      "[Now to wait.](#mugiwait)\n",
      "> [You can just constantly cycle between them. Or become a mod and you can give yourself multiple flairs!](https://old.reddit.com/r/anime/comments/1ayizpb/new_seasonal_flairs_for_winter_2024/krv935l/)\n",
      "\n",
      "Multiple flairs is a worthy acquisition... [](#hardthink \"Good luck applicants as the #mod quantity has been decreasing, so hopefully the workload can spread across more people.\")\n",
      "Ew I'm out.  Trying to deal with people's completely different interpretation of the rule or \"my post didn't violate rules!\" \n",
      "\n",
      "I was moderator once long ago, people were idiots back about 20 years ago and I doubt it's gotten any easier since then.\n",
      "Choose me and I will instate a rule that in order to interact with this subreddit, one must watch Kyousougiga. This will greatly benefit mankind.\n",
      "I'm afraid I'll have to pass - I'm satisfied just being a normal user. I feel like it gives me more freedom to be a ~~snarky~~ goofball sometimes haha.\n",
      "\n",
      "Still, best of luck to whoever is applying though.\n"
     ]
    }
   ],
   "source": [
    "# Fetch Comments from a Submission\n",
    "\n",
    "submission = reddit.submission(url=\"https://www.reddit.com/r/anime/comments/1az9jva/mod_applications_winter_2024/\")\n",
    "for comment in submission.comments:\n",
    "    print(comment.body)"
   ]
  },
  {
   "cell_type": "code",
   "execution_count": null,
   "id": "c06bcb70",
   "metadata": {},
   "outputs": [],
   "source": []
  }
 ],
 "metadata": {
  "kernelspec": {
   "display_name": "Python 3 (ipykernel)",
   "language": "python",
   "name": "python3"
  },
  "language_info": {
   "codemirror_mode": {
    "name": "ipython",
    "version": 3
   },
   "file_extension": ".py",
   "mimetype": "text/x-python",
   "name": "python",
   "nbconvert_exporter": "python",
   "pygments_lexer": "ipython3",
   "version": "3.11.4"
  }
 },
 "nbformat": 4,
 "nbformat_minor": 5
}
